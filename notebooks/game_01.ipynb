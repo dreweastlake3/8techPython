{
 "cells": [
  {
   "cell_type": "markdown",
   "id": "8baaea14",
   "metadata": {},
   "source": [
    "<h1>game_01.py</h1>\n",
    "\n",
    "In game_01.py, we encounter <code>say_hello()</code>, this is called a <b>function</b>. We will cover this in a couple of sections.\n",
    "\n",
    "For now, try running the script by <i>pressing play</i> and see what happens.\n",
    "\n",
    "Run the script.\n"
   ]
  },
  {
   "cell_type": "markdown",
   "id": "9bcce72e",
   "metadata": {},
   "source": [
    "game_01.py"
   ]
  },
  {
   "cell_type": "code",
   "execution_count": null,
   "id": "1c249eee",
   "metadata": {},
   "outputs": [],
   "source": [
    "def say_hello():\n",
    "    '''\n",
    "    Prints hello string when run from command line\n",
    "    '''\n",
    "    print(\"hello\")\n",
    "\n",
    "if __name__ == '__main__':\n",
    "    say_hello()"
   ]
  },
  {
   "cell_type": "markdown",
   "id": "94a49f5f",
   "metadata": {},
   "source": [
    "<h2>Other things to do with strings.</h2>\n",
    "\n",
    "<code>\"Hello!\"</code> is a <b>string</b>. A string is a data type in Python.\n",
    "\n",
    "See how the word <code>Hello!</code> is surrounded by <code>\"</code> \n",
    "\n",
    "' (Single quotes) are the same as \" (double quotes).\n",
    "\n",
    "When you open with <code>\"</code> you have to close with a closing <code>\"</code>, same thing with <code>'</code>."
   ]
  },
  {
   "cell_type": "markdown",
   "id": "ba992d34",
   "metadata": {},
   "source": [
    "<h3>TASK</h3>\n",
    "\n",
    "Fix the three statements below so that when you press play, the program runs:\n",
    "\n",
    "Hello!<br>\n",
    "Hello!<br>\n",
    "I'm going outside"
   ]
  },
  {
   "cell_type": "code",
   "execution_count": null,
   "id": "99d22310",
   "metadata": {},
   "outputs": [],
   "source": [
    "print(\"Hello!')\n",
    "\n",
    "print('Hello!\")\n",
    "\n",
    "print('I'm going outside')"
   ]
  },
  {
   "cell_type": "markdown",
   "id": "ac9230c7",
   "metadata": {},
   "source": [
    "<h2>Numbers</h2>\n",
    "\n",
    "You can also print numbers. \n",
    "\n",
    "Numbers are of data type <b>integers</b> or whole numbers.\n"
   ]
  },
  {
   "cell_type": "code",
   "execution_count": null,
   "id": "9d860693",
   "metadata": {},
   "outputs": [],
   "source": [
    "print(1)\n",
    "\n",
    "print(246)"
   ]
  },
  {
   "cell_type": "markdown",
   "id": "e31e6eda",
   "metadata": {},
   "source": [
    "<h3>TASK</h3>\n",
    "\n",
    "Fix the program below so that when you press play, the program runs:\n",
    "\n",
    "2350<br>\n",
    "10<br>\n",
    "230984723049823"
   ]
  },
  {
   "cell_type": "code",
   "execution_count": null,
   "id": "33b073e2",
   "metadata": {},
   "outputs": [],
   "source": [
    "2350\n",
    "\n",
    "10\n",
    "\n",
    "230984723049823"
   ]
  },
  {
   "cell_type": "markdown",
   "id": "fa83619c",
   "metadata": {},
   "source": [
    "<h2>String Concatenation</h2>\n",
    "\n",
    "You can combine strings together, this is called concatenation."
   ]
  },
  {
   "cell_type": "code",
   "execution_count": null,
   "id": "1e8f544f",
   "metadata": {},
   "outputs": [],
   "source": [
    "print(\"hello\" + \" world\")"
   ]
  },
  {
   "cell_type": "markdown",
   "id": "45d9ddf0",
   "metadata": {},
   "source": [
    "<h3>TASK</h3>\n",
    "\n",
    "What do you think will happen when you run the program below?\n",
    "\n",
    "Double click in the box below and fill in the sentence.\n"
   ]
  },
  {
   "cell_type": "markdown",
   "id": "6b2f366f",
   "metadata": {},
   "source": [
    "<b>I think that the program will output</b>:"
   ]
  },
  {
   "cell_type": "code",
   "execution_count": null,
   "id": "6098c6ae",
   "metadata": {},
   "outputs": [],
   "source": [
    "print(\"hello\" + 123)"
   ]
  },
  {
   "cell_type": "markdown",
   "id": "3676d550",
   "metadata": {},
   "source": [
    "Try the following and see what happens though:"
   ]
  },
  {
   "cell_type": "code",
   "execution_count": null,
   "id": "4897e461",
   "metadata": {},
   "outputs": [],
   "source": [
    "print(2 + 124)\n",
    "print(2 - 124)\n",
    "print(2 / 124)\n",
    "print(2 * 124)"
   ]
  },
  {
   "cell_type": "markdown",
   "id": "fe7e4265",
   "metadata": {},
   "source": [
    "The different symbols do different things.\n",
    "\n",
    "<h3>TASK</h3>\n",
    "\n",
    "Can you fill in the table below to show the symbols and what they mean?\n",
    "\n",
    "\n",
    "| Symbol | Meaning |\n",
    "| :--------: | :-------: |\n",
    "| + |  |\n",
    "| - |  |\n",
    "| / |  |\n",
    "| * |  |\n",
    "\n",
    "\n",
    "Now we have a calculator.\n",
    "\n"
   ]
  },
  {
   "cell_type": "markdown",
   "id": "711ed3ef",
   "metadata": {},
   "source": [
    "Notice what happens when you do the following:"
   ]
  },
  {
   "cell_type": "markdown",
   "id": "3f6211f0",
   "metadata": {},
   "source": [
    "5/2"
   ]
  },
  {
   "cell_type": "markdown",
   "id": "b4b80d8b",
   "metadata": {},
   "source": [
    "\n",
    "Now try:\n"
   ]
  },
  {
   "cell_type": "code",
   "execution_count": null,
   "id": "051bb10b",
   "metadata": {},
   "outputs": [],
   "source": [
    "5//2"
   ]
  },
  {
   "cell_type": "markdown",
   "id": "221a242d",
   "metadata": {},
   "source": [
    "What happened to the remainder? To get the remainder"
   ]
  },
  {
   "cell_type": "code",
   "execution_count": null,
   "id": "21cf6246",
   "metadata": {},
   "outputs": [],
   "source": [
    "5%2"
   ]
  },
  {
   "cell_type": "markdown",
   "id": "812b6b57",
   "metadata": {},
   "source": [
    "<h2>What about decimals?</h2>\n",
    "\n",
    "Whole numbers like <i>1</i> are called <b>integers</b>, they are whole numbers. \n",
    "\n",
    "For decimals like <i>3.141</i> they are known as <b>floats</b>."
   ]
  },
  {
   "cell_type": "markdown",
   "id": "a2082860",
   "metadata": {},
   "source": [
    "<h2>Are you wondering what the <code>if __name__ == '__main__':</code> means?</h2>\n",
    "\n",
    "It means that the Python script is also a standalone programme which makes it re-usuable. Just take it for now that normally this is the first thing you type. \n",
    "\n",
    "We will see an example of how we re-use Python scripts, otherwise known as modules in a few lessons. "
   ]
  }
 ],
 "metadata": {
  "kernelspec": {
   "display_name": "Python 3",
   "language": "python",
   "name": "python3"
  },
  "language_info": {
   "codemirror_mode": {
    "name": "ipython",
    "version": 3
   },
   "file_extension": ".py",
   "mimetype": "text/x-python",
   "name": "python",
   "nbconvert_exporter": "python",
   "pygments_lexer": "ipython3",
   "version": "3.12.1"
  }
 },
 "nbformat": 4,
 "nbformat_minor": 5
}
